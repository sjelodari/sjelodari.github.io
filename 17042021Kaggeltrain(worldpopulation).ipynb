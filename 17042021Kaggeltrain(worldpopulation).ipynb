{
  "nbformat": 4,
  "nbformat_minor": 0,
  "metadata": {
    "colab": {
      "name": "17042021Kaggeltrain(worldpopulation).ipynb",
      "provenance": [],
      "toc_visible": true,
      "authorship_tag": "ABX9TyMS+QHeigrCybza9vje9g1h",
      "include_colab_link": true
    },
    "kernelspec": {
      "name": "python3",
      "display_name": "Python 3"
    },
    "language_info": {
      "name": "python"
    },
    "accelerator": "GPU"
  },
  "cells": [
    {
      "cell_type": "markdown",
      "metadata": {
        "id": "view-in-github",
        "colab_type": "text"
      },
      "source": [
        "<a href=\"https://colab.research.google.com/github/sjelodari/sjelodari.github.io/blob/master/17042021Kaggeltrain(worldpopulation).ipynb\" target=\"_parent\"><img src=\"https://colab.research.google.com/assets/colab-badge.svg\" alt=\"Open In Colab\"/></a>"
      ]
    },
    {
      "cell_type": "markdown",
      "metadata": {
        "id": "xAUXsEGg7oPH"
      },
      "source": [
        "# **Install Kaggle on colab and download the dataset**"
      ]
    },
    {
      "cell_type": "code",
      "metadata": {
        "id": "R18nE5qSIMSM"
      },
      "source": [
        "#install kaggle\n",
        "!pip install -q kaggle"
      ],
      "execution_count": 1,
      "outputs": []
    },
    {
      "cell_type": "code",
      "metadata": {
        "id": "b3oNjlqmIm1m"
      },
      "source": [
        "#upload kaggle config file\n",
        "from google.colab import files\n",
        "files.upload()"
      ],
      "execution_count": null,
      "outputs": []
    },
    {
      "cell_type": "code",
      "metadata": {
        "id": "weoAND10Ir2Y"
      },
      "source": [
        "!mkdir -p ~/.kaggle\n",
        "!chmod 600 kaggle.json\n",
        "!mv kaggle.json ~/.kaggle/"
      ],
      "execution_count": 3,
      "outputs": []
    },
    {
      "cell_type": "code",
      "metadata": {
        "id": "mdcecAqCJQLd"
      },
      "source": [
        "# Kaggle dataset managenet using API\n",
        "!kaggle datasets list\n",
        "!kaggle datasets download -d mohaiminul101/population-growth-annual"
      ],
      "execution_count": null,
      "outputs": []
    },
    {
      "cell_type": "code",
      "metadata": {
        "id": "dFpzskkVJZk7"
      },
      "source": [
        "!unzip population-growth-annual.zip"
      ],
      "execution_count": null,
      "outputs": []
    },
    {
      "cell_type": "markdown",
      "metadata": {
        "id": "FpVtsW8xJiaw"
      },
      "source": [
        "# **Import Miniconda  and numpy as well as pandas**"
      ]
    },
    {
      "cell_type": "code",
      "metadata": {
        "id": "Kkovtkd6JlPA"
      },
      "source": [
        "! wget https://repo.anaconda.com/miniconda/Miniconda3-py37_4.8.2-Linux-x86_64.sh\n",
        "! chmod +x Miniconda3-py37_4.8.2-Linux-x86_64.sh\n",
        "! bash ./Miniconda3-py37_4.8.2-Linux-x86_64.sh -b -f -p /usr/local\n",
        "import sys\n",
        "sys.path.append('/usr/local/lib/python3.7/site-packages/')"
      ],
      "execution_count": null,
      "outputs": []
    },
    {
      "cell_type": "code",
      "metadata": {
        "id": "K3hjzhv2J16q"
      },
      "source": [
        "import numpy as np\n",
        "import pandas as pd\n",
        "!conda install -c anaconda xlrd --y\n",
        "!conda update -n base -c defaults conda"
      ],
      "execution_count": null,
      "outputs": []
    },
    {
      "cell_type": "markdown",
      "metadata": {
        "id": "Pa2eNME2KFO7"
      },
      "source": [
        "# **Read and clean the dataset**"
      ]
    },
    {
      "cell_type": "code",
      "metadata": {
        "id": "X6ruFedPKE1a"
      },
      "source": [
        "df_pgrowth = pd.read_csv('world_population_growth.csv') #first step is reading the dataset"
      ],
      "execution_count": 6,
      "outputs": []
    },
    {
      "cell_type": "code",
      "metadata": {
        "id": "GeoBl7XYKZNO"
      },
      "source": [
        "df_pgrowth.head() #after importing the dataset 2 steps are necessary 1-reading the first five rows and 2- finding out the shape of the dataset"
      ],
      "execution_count": null,
      "outputs": []
    },
    {
      "cell_type": "code",
      "metadata": {
        "id": "zgDYwMdUPPTU"
      },
      "source": [
        "df_pgrowth.tail()"
      ],
      "execution_count": null,
      "outputs": []
    },
    {
      "cell_type": "code",
      "metadata": {
        "colab": {
          "base_uri": "https://localhost:8080/"
        },
        "id": "VwBEEaSgnXw7",
        "outputId": "d2441c4a-522a-4e68-c0f1-a413aeff32b1"
      },
      "source": [
        "df_pgrowth.shape"
      ],
      "execution_count": 8,
      "outputs": [
        {
          "output_type": "execute_result",
          "data": {
            "text/plain": [
              "(264, 63)"
            ]
          },
          "metadata": {
            "tags": []
          },
          "execution_count": 8
        }
      ]
    },
    {
      "cell_type": "code",
      "metadata": {
        "id": "mErhJEWYRYpQ"
      },
      "source": [
        "df_pgrowth.columns.to_list()\n",
        "df_pgrowth.index.to_list()\n",
        "\n",
        "print(type(df_pgrowth.columns.to_list()))\n",
        "print(type(df_pgrowth.index.to_list()))"
      ],
      "execution_count": null,
      "outputs": []
    },
    {
      "cell_type": "code",
      "metadata": {
        "id": "29lGkAHTRt_t"
      },
      "source": [
        "df_pgrowth.shape"
      ],
      "execution_count": null,
      "outputs": []
    },
    {
      "cell_type": "code",
      "metadata": {
        "id": "z2EzCz1lRzTp"
      },
      "source": [
        "df_pgrowth.drop(['Country Code','Indicator Name','Indicator Code'], axis=1, inplace=True) # to have a clean and orgnized dataframe the unnessary columns have to be deleted "
      ],
      "execution_count": 10,
      "outputs": []
    },
    {
      "cell_type": "code",
      "metadata": {
        "id": "-N1_R2YWSGpx"
      },
      "source": [
        "df_pgrowth.head()"
      ],
      "execution_count": null,
      "outputs": []
    },
    {
      "cell_type": "code",
      "metadata": {
        "id": "TDPMxFOtSKcf"
      },
      "source": [
        "df_pgrowth.rename(columns={'Country Name':'Country'}, inplace=True)\n",
        "df_pgrowth.columns"
      ],
      "execution_count": null,
      "outputs": []
    },
    {
      "cell_type": "code",
      "metadata": {
        "id": "Pv5eLlqESf9U"
      },
      "source": [
        "df_pgrowth['Total'] = df_pgrowth.sum(axis=1)"
      ],
      "execution_count": 14,
      "outputs": []
    },
    {
      "cell_type": "code",
      "metadata": {
        "id": "0PNoQDfrSpwy"
      },
      "source": [
        "df_pgrowth.head(2)"
      ],
      "execution_count": null,
      "outputs": []
    },
    {
      "cell_type": "code",
      "metadata": {
        "id": "k_tD9rPnTN-O"
      },
      "source": [
        "df_pgrowth.set_index('Country', inplace=True)\n",
        "df_pgrowth.head(20)"
      ],
      "execution_count": null,
      "outputs": []
    },
    {
      "cell_type": "code",
      "metadata": {
        "id": "BCkUH4W_wMlA"
      },
      "source": [
        "df_pgrowth.head(20)"
      ],
      "execution_count": null,
      "outputs": []
    },
    {
      "cell_type": "code",
      "metadata": {
        "id": "r2tJGvNpsZ6W"
      },
      "source": [
        "df_pgrowth.drop(['Sint Maarten (Dutch part)','Serbia','West Bank and Gaza','Not classified',], axis=0, inplace=True)\n",
        "#since they had no values in the period of years"
      ],
      "execution_count": 18,
      "outputs": []
    },
    {
      "cell_type": "code",
      "metadata": {
        "id": "koj9QjwtoW9W"
      },
      "source": [
        "df_pgrowth.shape"
      ],
      "execution_count": null,
      "outputs": []
    },
    {
      "cell_type": "code",
      "metadata": {
        "id": "RfsEo776al7x"
      },
      "source": [
        "years = list(map(str, range(1961,2019)))"
      ],
      "execution_count": 26,
      "outputs": []
    },
    {
      "cell_type": "code",
      "metadata": {
        "id": "u7aACGtkvwp7"
      },
      "source": [
        "df_pgrowth.sort_values(by='Total', ascending=False, inplace=True)\n",
        "df_pgrowth.head()"
      ],
      "execution_count": null,
      "outputs": []
    },
    {
      "cell_type": "markdown",
      "metadata": {
        "id": "XJA848bxW8m-"
      },
      "source": [
        "# **Let's Visualize!**\n",
        "\n",
        "---\n",
        "\n"
      ]
    },
    {
      "cell_type": "code",
      "metadata": {
        "id": "xRM1nbZqYSI2"
      },
      "source": [
        "%matplotlib inline\n",
        "\n",
        "import matplotlib as mpl\n",
        "import matplotlib.pyplot as plt\n",
        "\n",
        "mpl.style.use('ggplot') # optional: for ggplot-like style\n",
        "\n",
        "# check for latest version of Matplotlib\n",
        "print('Matplotlib version: ', mpl.__version__) # >= 2.0.0\n",
        "import matplotlib\n",
        "for name, hex in matplotlib.colors.cnames.items():\n",
        "    print(name, hex)\n"
      ],
      "execution_count": null,
      "outputs": []
    },
    {
      "cell_type": "markdown",
      "metadata": {
        "id": "YK_t9ClV9juc"
      },
      "source": [
        "# China and India vs Canada"
      ]
    },
    {
      "cell_type": "markdown",
      "metadata": {
        "id": "4JcekDKcaea_"
      },
      "source": [
        "With respect to the world population statistics, India and China are the most populated countries. \n",
        "Since Canada is a one of the most suitable contries for immagrants. Here I want to analyse and visualise the population growth in these three countries as many people from China and India immagrates to Canada all the years.\n",
        "\n",
        "Therefore these immagrations affect the three countries population growth."
      ]
    },
    {
      "cell_type": "code",
      "metadata": {
        "id": "q_oy-ErE5XDL"
      },
      "source": [
        "fig = plt.figure()\n",
        "ax0 = fig.add_subplot(121)\n",
        "ax1 = fig.add_subplot(122)\n",
        "\n",
        "#suB1  India\n",
        "india = df_pgrowth.loc['India', years]\n",
        "india.plot(kind='line', figsize= (15,6), color='orange', ax=ax0)\n",
        "ax0.set_title('India population growth 1961-2019')\n",
        "ax0.set_xlabel('Years')\n",
        "ax0.set_ylabel('Population growth')\n",
        "\n",
        "#sub2 China\n",
        "china = df_pgrowth.loc['China', years]\n",
        "china.plot(kind='line',figsize= (12,6), color='red', ax=ax1)\n",
        "\n",
        "plt.title('China population growth 1961-2019')\n",
        "ax1.set_xlabel('Years')\n",
        "ax1.set_ylabel('Population growth')\n",
        "\n",
        "\n",
        "plt.show()"
      ],
      "execution_count": null,
      "outputs": []
    },
    {
      "cell_type": "code",
      "metadata": {
        "id": "ZP7mOuQ-0g8t"
      },
      "source": [
        "fig = plt.figure()\n",
        "ax0 = fig.add_subplot(121)\n",
        "ax1 = fig.add_subplot(122)\n",
        "\n",
        "#sub1 Canada\n",
        "canada = df_pgrowth.loc['Canada', years]\n",
        "\n",
        "canada.plot(kind='line',figsize= (12,6),color='blue', ax=ax0)\n",
        "\n",
        "ax0.set_title('Canada population growth 1961-2019 ')\n",
        "ax0.set_xlabel('Years')\n",
        "ax0.set_ylabel('Population growth')\n",
        "\n",
        "\n",
        "#sub2 The three countries\n",
        "colors_listt = ['orange', 'red', 'blue']\n",
        "df_CIC = df_pgrowth.loc[['India','China','Canada'], years]\n",
        "df_CIC = df_CIC.transpose()\n",
        "df_CIC.plot(kind='line',figsize= (12,6), color= colors_listt, ax=ax1)\n",
        "\n",
        "ax1.set_title('The three countries p.growths 1961-2019')\n",
        "ax1.set_xlabel('Years')\n",
        "ax1.set_ylabel('Population growth')"
      ],
      "execution_count": null,
      "outputs": []
    },
    {
      "cell_type": "markdown",
      "metadata": {
        "id": "NSm1RInKXHcN"
      },
      "source": [
        "# World 5 top countries in growhts"
      ]
    },
    {
      "cell_type": "code",
      "metadata": {
        "id": "9X6kXd0wXE47"
      },
      "source": [
        "df_top5 = df_pgrowth.head(5)\n",
        "# transpose the dataframe\n",
        "df_top5 = df_top5[years].transpose()"
      ],
      "execution_count": 65,
      "outputs": []
    },
    {
      "cell_type": "code",
      "metadata": {
        "id": "XY9IK3qPqmeW"
      },
      "source": [
        " # I changed the index values of df_top5 to type integer for plotting\n",
        " df_top5.index= df_top5.index.map(int)"
      ],
      "execution_count": 66,
      "outputs": []
    },
    {
      "cell_type": "code",
      "metadata": {
        "id": "V50r_0U4nDJ3"
      },
      "source": [
        "ax = df_top5.plot(kind='area',\n",
        "             alpha=0.5,\n",
        "             stacked=False,\n",
        "             figsize=(20,10),\n",
        "             )\n",
        "ax.set_title(' The Five countries with the Highest Population growth trend 1961-2019')\n",
        "ax.set_ylabel('Growth')\n",
        "ax.set_xlabel('Years')\n",
        "plt.show()"
      ],
      "execution_count": null,
      "outputs": []
    },
    {
      "cell_type": "markdown",
      "metadata": {
        "id": "Vjo2cDSuXXod"
      },
      "source": [
        "# world 15 low countries in grows"
      ]
    },
    {
      "cell_type": "code",
      "metadata": {
        "id": "tAjlFNWboleZ"
      },
      "source": [
        "df_down5 = df_pgrowth.tail()\n",
        "df_down5 = df_down5[years].transpose()\n",
        "\n",
        "\n",
        "ax= df_down5.plot(kind='area',\n",
        "                  alpha=0.50,\n",
        "                  stacked = False,\n",
        "                  figsize=(20,10),)\n",
        "\n",
        "ax.set_title('The Five countries with the lowest Population growth trend 1961-2019')\n",
        "ax.set_ylabel('Growth')\n",
        "ax.set_xlabel('Years')\n",
        "\n",
        "plt.show()"
      ],
      "execution_count": null,
      "outputs": []
    },
    {
      "cell_type": "markdown",
      "metadata": {
        "id": "5LmoHsVL29eE"
      },
      "source": [
        "# the effect of Iceland's Financial Crisis:"
      ]
    },
    {
      "cell_type": "markdown",
      "metadata": {
        "id": "WexlbYXB3IJe"
      },
      "source": [
        "The 2008 - 2011 Icelandic Financial Crisis was a major economic and political event in Iceland. Relative to the size of its economy, Iceland's systemic banking collapse was the largest experienced by any country in economic history. The crisis led to a severe economic depression in 2008 - 2011 and significant political unrest."
      ]
    },
    {
      "cell_type": "code",
      "metadata": {
        "id": "mH-obYyz3B1p"
      },
      "source": [
        "ice_years = list(map(str,range(2008,2014)))\n",
        "df_iceland = df_pgrowth.loc['Iceland', ice_years]\n",
        "df_iceland.head()"
      ],
      "execution_count": null,
      "outputs": []
    },
    {
      "cell_type": "code",
      "metadata": {
        "id": "wJZejmvl4MBJ"
      },
      "source": [
        "df_iceland.plot(kind='bar', figsize=(10, 6))\n",
        "\n",
        "plt.xlabel('Year')\n",
        "plt.ylabel('Number of Immigrants')\n",
        "plt.title('Icelandic Population growth trend 2008-2013')\n",
        "\n",
        "# Annotate arrow\n",
        "plt.annotate('',\n",
        "             xy=(2, 0), \n",
        "             xytext=(0.25, 1.85),\n",
        "             xycoords='data', \n",
        "             arrowprops=dict(arrowstyle='->', connectionstyle='arc3', color='green', lw=2)\n",
        "            )\n",
        "#annotate text\n",
        "plt.annotate('2008 - 2010 Financial Crisis',\n",
        "             xy=(0.6, 0.75),                   \n",
        "             rotation=-60,                  \n",
        "             va='bottom',                \n",
        "             ha='left',                     \n",
        "            )\n",
        "\n",
        "\n",
        "plt.show()"
      ],
      "execution_count": null,
      "outputs": []
    },
    {
      "cell_type": "markdown",
      "metadata": {
        "id": "2FS1jOl5_udh"
      },
      "source": [
        "# The top 15 countries with the total growrth trend over the period"
      ]
    },
    {
      "cell_type": "code",
      "metadata": {
        "id": "tq_7UV3sB_DL"
      },
      "source": [
        "df_top15 = df_pgrowth['Total'].head(15)\n",
        "df_top15.plot(kind='barh', figsize=(12,12), color='green')\n",
        "plt.xlabel('Total Growth')\n",
        "plt.ylabel('Countries')\n",
        "\n",
        "for index, value in enumerate(df_top15): \n",
        "    label = format(int(value), ',')\n",
        "\n",
        "plt.show()"
      ],
      "execution_count": null,
      "outputs": []
    }
  ]
}